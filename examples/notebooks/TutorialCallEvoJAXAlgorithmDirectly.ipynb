{
  "nbformat": 4,
  "nbformat_minor": 0,
  "metadata": {
    "colab": {
      "provenance": []
    },
    "kernelspec": {
      "name": "python3",
      "display_name": "Python 3"
    },
    "language_info": {
      "name": "python"
    },
    "accelerator": "GPU",
    "gpuClass": "premium"
  },
  "cells": [
   {
      "cell_type": "markdown",
      "metadata": {
        "id": "view-in-github",
        "colab_type": "text"
      },
      "source": [
        "<a href=\"https://colab.research.google.com/github/google/evojax/blob/main/examples/notebooks/TutorialCallEvoJAXAlgorithmDirectly.ipynb\" target=\"_parent\"><img src=\"https://colab.research.google.com/assets/colab-badge.svg\" alt=\"Open In Colab\"/></a>"
      ]
    },
    {
      "cell_type": "markdown",
      "source": [
        "# How to call EvoJAX algorithm directly\n",
        "\n",
        "In this notebook, we show how to call directly EvoJAX Algorithm, using CMA-ES as an example."
      ],
      "metadata": {
        "id": "x642GwUg76S2"
      }
    },
    {
      "cell_type": "code",
      "execution_count": 1,
      "metadata": {
        "id": "3JUC1uiVzGS6"
      },
      "outputs": [],
      "source": [
        "! pip install evojax\n",
        "\n",
        "from google.colab import output\n",
        "output.clear()"
      ]
    },
    {
      "cell_type": "code",
      "source": [
        "import jax\n",
        "from jax import numpy as jnp\n",
        "\n",
        "import numpy as np\n",
        "\n",
        "from matplotlib import pyplot as plt\n",
        "import seaborn as sns"
      ],
      "metadata": {
        "id": "vf7ArnQZzPKT"
      },
      "execution_count": 2,
      "outputs": []
    },
    {
      "cell_type": "code",
      "source": [
        "PARAM_SIZE = 2\n",
        "\n",
        "# define evaluation at a single point\n",
        "\n",
        "def f(x: jnp.ndarray) -> jnp.ndarray:\n",
        "  c = jnp.array([+0.3, -0.7])\n",
        "  y = - jnp.sum(jnp.abs(x - c))\n",
        "  # so y is minimized with x = c\n",
        "  return y\n",
        "\n",
        "# ... test it\n",
        "_x = jax.random.normal(\n",
        "    key=jax.random.PRNGKey(123), \n",
        "    shape=(PARAM_SIZE,)\n",
        ")\n",
        "print(f'f({_x}) = {f(_x)}')\n",
        "\n",
        "# evalute f in batch\n",
        "f_batch = jax.vmap(f, in_axes=(0,), out_axes=0)\n",
        "\n",
        "# ... test it\n",
        "TEST_BATCH_SIZE = 3\n",
        "_x_batch = jax.random.normal(\n",
        "    key=jax.random.PRNGKey(123), \n",
        "    shape=(TEST_BATCH_SIZE, PARAM_SIZE,)\n",
        ")\n",
        "print(f'f_batch({_x_batch}) = {f_batch(_x_batch)}')"
      ],
      "metadata": {
        "colab": {
          "base_uri": "https://localhost:8080/"
        },
        "id": "OwB3qq2kzv66",
        "outputId": "d3efcc17-3af2-4817-dd20-cdf5e142b1e3"
      },
      "execution_count": 3,
      "outputs": [
        {
          "output_type": "stream",
          "name": "stdout",
          "text": [
            "f([-0.03049826  0.49289012]) = -1.523388385772705\n",
            "f_batch([[-0.29256076 -0.2805558 ]\n",
            " [-0.78786534 -0.90408975]\n",
            " [ 0.89289093  0.75706756]]) = [-1.012005  -1.2919551 -2.0499585]\n"
          ]
        }
      ]
    },
    {
      "cell_type": "code",
      "source": [
        "from evojax.algo import PGPE, CMA_ES_JAX"
      ],
      "metadata": {
        "id": "9ZITYoam0m5A"
      },
      "execution_count": 4,
      "outputs": []
    },
    {
      "cell_type": "code",
      "source": [
        "n_population = 128\n",
        "n_feature = PARAM_SIZE\n",
        "n_iterations = 20\n",
        "report_interval = 1"
      ],
      "metadata": {
        "id": "X-4GFXmK8PJd"
      },
      "execution_count": null,
      "outputs": []
    },
    {
      "cell_type": "code",
      "source": [
        "#@title CMA ES without particular initilization\n",
        "\n",
        "solver = CMA_ES_JAX(\n",
        "  pop_size=n_population,\n",
        "  param_size=n_feature,\n",
        "  init_stdev=0.1,\n",
        ")\n",
        "\n",
        "have_printed = False\n",
        "recorded_best_fitness_no_init = []\n",
        "\n",
        "for iter_ in range(1, 1 + n_iterations):\n",
        "  solutions = solver.ask() \n",
        "  fitnesses = f_batch(solutions)\n",
        "  solver.tell(fitnesses)\n",
        "\n",
        "  if iter_ % report_interval == 0 or iter_ == 1 or iter_ == n_iterations:\n",
        "    best_solutions = jnp.expand_dims(solver.best_params, axis=0)\n",
        "    best_fitnesses = f_batch(best_solutions)\n",
        "    recorded_best_fitness_no_init.append(\n",
        "        np.array(best_fitnesses)[0]\n",
        "    )\n",
        "\n",
        "    if not have_printed:\n",
        "      have_printed = True\n",
        "      print(f'solutions.shape = {solutions.shape}')\n",
        "      print(f'fitnesses.shape = {fitnesses.shape}')\n",
        "      print(f'best_solutions.shape = {best_solutions.shape}')\n",
        "\n",
        "    print(f'f_batch({best_solutions}) = {best_fitnesses}')"
      ],
      "metadata": {
        "colab": {
          "base_uri": "https://localhost:8080/"
        },
        "id": "wKFjDqCb2mz9",
        "outputId": "476e88ea-2386-4c46-edde-accf33c3e0ef"
      },
      "execution_count": 5,
      "outputs": [
        {
          "output_type": "stream",
          "name": "stdout",
          "text": [
            "solutions.shape = (128, 2)\n",
            "fitnesses.shape = (128,)\n",
            "best_solutions.shape = (1, 2)\n",
            "f_batch([[ 0.08474442 -0.073248  ]]) = [-0.84200764]\n",
            "f_batch([[ 0.17500642 -0.15183967]]) = [-0.6731539]\n",
            "f_batch([[ 0.3509241  -0.40125412]]) = [-0.34966996]\n",
            "f_batch([[ 0.39421523 -0.58534455]]) = [-0.20887065]\n",
            "f_batch([[ 0.32162884 -0.6903529 ]]) = [-0.0312759]\n",
            "f_batch([[ 0.3269463 -0.7115207]]) = [-0.03846696]\n",
            "f_batch([[ 0.3014449 -0.7109104]]) = [-0.01235527]\n",
            "f_batch([[ 0.29477358 -0.69933814]]) = [-0.00588828]\n",
            "f_batch([[ 0.2975316 -0.6987489]]) = [-0.00371951]\n",
            "f_batch([[ 0.29991594 -0.6995431 ]]) = [-0.00054094]\n",
            "f_batch([[ 0.29953426 -0.70033973]]) = [-0.0008055]\n",
            "f_batch([[ 0.29977402 -0.70027804]]) = [-0.00050405]\n",
            "f_batch([[ 0.299997  -0.6999695]]) = [-3.3527613e-05]\n",
            "f_batch([[ 0.30000675 -0.69997686]]) = [-2.9861927e-05]\n",
            "f_batch([[ 0.30001897 -0.6999943 ]]) = [-2.4616718e-05]\n",
            "f_batch([[ 0.29999867 -0.7000037 ]]) = [-5.0365925e-06]\n",
            "f_batch([[ 0.30000395 -0.7000022 ]]) = [-6.1392784e-06]\n",
            "f_batch([[ 0.30000076 -0.70000094]]) = [-1.6987324e-06]\n",
            "f_batch([[ 0.30000114 -0.6999994 ]]) = [-1.7285347e-06]\n",
            "f_batch([[ 0.3       -0.7000002]]) = [-2.3841858e-07]\n"
          ]
        }
      ]
    },
    {
      "cell_type": "code",
      "source": [
        "#@title CMA ES with initilization\n",
        "n_population = 128\n",
        "n_feature = PARAM_SIZE\n",
        "n_iterations = 20\n",
        "report_interval = 1\n",
        "\n",
        "solver = CMA_ES_JAX(\n",
        "  pop_size=n_population,\n",
        "  param_size=n_feature,\n",
        "  mean=jnp.array([0.35, -0.65]),\n",
        "  init_stdev=0.1,\n",
        ")\n",
        "\n",
        "have_printed = False\n",
        "recorded_best_fitness_with_init = []\n",
        "\n",
        "for iter_ in range(1, 1 + n_iterations):\n",
        "  solutions = solver.ask() \n",
        "  fitnesses = f_batch(solutions)\n",
        "  solver.tell(fitnesses)\n",
        "\n",
        "  if iter_ % report_interval == 0 or iter_ == 1 or iter_ == n_iterations:\n",
        "    best_solutions = jnp.expand_dims(solver.best_params, axis=0)\n",
        "    best_fitnesses = f_batch(best_solutions)\n",
        "    recorded_best_fitness_with_init.append(\n",
        "        np.array(best_fitnesses)[0]\n",
        "    )\n",
        "\n",
        "    if not have_printed:\n",
        "      have_printed = True\n",
        "      print(f'solutions.shape = {solutions.shape}')\n",
        "      print(f'fitnesses.shape = {fitnesses.shape}')\n",
        "      print(f'best_solutions.shape = {best_solutions.shape}')\n",
        "\n",
        "    print(f'f_batch({best_solutions}) = {best_fitnesses}')\n"
      ],
      "metadata": {
        "colab": {
          "base_uri": "https://localhost:8080/"
        },
        "id": "5mckL7OD2uLK",
        "outputId": "2f02747c-d52e-46dd-956a-b3e428d75548"
      },
      "execution_count": 6,
      "outputs": [
        {
          "output_type": "stream",
          "name": "stdout",
          "text": [
            "solutions.shape = (128, 2)\n",
            "fitnesses.shape = (128,)\n",
            "best_solutions.shape = (1, 2)\n",
            "f_batch([[ 0.30595613 -0.6888452 ]]) = [-0.01711088]\n",
            "f_batch([[ 0.29828358 -0.6956377 ]]) = [-0.00607872]\n",
            "f_batch([[ 0.2994544 -0.7001903]]) = [-0.00073594]\n",
            "f_batch([[ 0.29997295 -0.70111954]]) = [-0.00114661]\n",
            "f_batch([[ 0.29916427 -0.7002495 ]]) = [-0.00108525]\n",
            "f_batch([[ 0.3000644 -0.7009134]]) = [-0.00097784]\n",
            "f_batch([[ 0.3001208  -0.70024765]]) = [-0.00036845]\n",
            "f_batch([[ 0.29998836 -0.7001801 ]]) = [-0.00019178]\n",
            "f_batch([[ 0.30004293 -0.7000589 ]]) = [-0.0001018]\n",
            "f_batch([[ 0.30002195 -0.7000242 ]]) = [-4.6133995e-05]\n",
            "f_batch([[ 0.29999524 -0.7000104 ]]) = [-1.5199184e-05]\n",
            "f_batch([[ 0.30000433 -0.7000072 ]]) = [-1.1533499e-05]\n",
            "f_batch([[ 0.3000024 -0.6999964]]) = [-5.9604645e-06]\n",
            "f_batch([[ 0.30000103 -0.69999915]]) = [-1.847744e-06]\n",
            "f_batch([[ 0.29999965 -0.6999996 ]]) = [-7.748604e-07]\n",
            "f_batch([[ 0.30000004 -0.7       ]]) = [-2.9802322e-08]\n",
            "f_batch([[ 0.29999992 -0.6999999 ]]) = [-1.4901161e-07]\n",
            "f_batch([[ 0.3 -0.7]]) = [-0.]\n",
            "f_batch([[ 0.30000007 -0.7       ]]) = [-5.9604645e-08]\n",
            "f_batch([[ 0.3 -0.7]]) = [-0.]\n"
          ]
        }
      ]
    },
    {
      "cell_type": "code",
      "source": [
        "plt.plot(recorded_best_fitness_no_init, label='w/o init')\n",
        "plt.plot(recorded_best_fitness_with_init, label='w/ init')\n",
        "plt.legend()\n",
        "plt.title('Curve for bsst fitness')\n",
        "plt.show()"
      ],
      "metadata": {
        "id": "Lo3jBjzS6xNZ",
        "colab": {
          "base_uri": "https://localhost:8080/",
          "height": 281
        },
        "outputId": "9f4cc72d-0119-43a0-8425-77042b133cb9"
      },
      "execution_count": 16,
      "outputs": [
        {
          "output_type": "display_data",
          "data": {
            "text/plain": [
              "<Figure size 432x288 with 1 Axes>"
            ],
            "image/png": "[encoded data removed]"
          },
          "metadata": {
            "needs_background": "light"
          }
        }
      ]
    },
    {
      "cell_type": "code",
      "source": [],
      "metadata": {
        "id": "MGgaMJAw8iYc"
      },
      "execution_count": 7,
      "outputs": []
    }
  ]
}
